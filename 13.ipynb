{
  "nbformat": 4,
  "nbformat_minor": 0,
  "metadata": {
    "colab": {
      "provenance": []
    },
    "kernelspec": {
      "name": "python3",
      "display_name": "Python 3"
    },
    "language_info": {
      "name": "python"
    }
  },
  "cells": [
    {
      "cell_type": "code",
      "execution_count": 2,
      "metadata": {
        "colab": {
          "base_uri": "https://localhost:8080/"
        },
        "id": "Uddu_VW9mnfY",
        "outputId": "894d6d11-7f84-48be-f89a-e222bcdbf2fd"
      },
      "outputs": [
        {
          "output_type": "stream",
          "name": "stdout",
          "text": [
            "Head->S->t->r->i->n->g->None\n"
          ]
        }
      ],
      "source": [
        "import numpy as np\n",
        "class Node:\n",
        "    def __init__(self, val):\n",
        "        self.val = val\n",
        "        self.next = None\n",
        "\n",
        "class LinkedList:\n",
        "    def __init__(self):\n",
        "        self.head = None\n",
        "\n",
        "    def insertElem(self, idx, new_val):\n",
        "        if idx < 0:\n",
        "            return None\n",
        "        new_node = Node(new_val)\n",
        "        if idx == 0:\n",
        "            new_node.next = self.head\n",
        "            self.head = new_node\n",
        "        else:\n",
        "            curr_node = self.head\n",
        "            prev_node = None\n",
        "            count = 0\n",
        "            while curr_node and count < idx:\n",
        "                prev_node = curr_node\n",
        "                curr_node = curr_node.next\n",
        "                count += 1\n",
        "            if count < idx:\n",
        "                return None\n",
        "            new_node.next = curr_node\n",
        "            if prev_node:\n",
        "                prev_node.next = new_node\n",
        "            else:\n",
        "                self.head = new_node\n",
        "\n",
        "    def display(self):\n",
        "        curr_node = self.head\n",
        "        while curr_node:\n",
        "            print(curr_node.val, end=\"->\")\n",
        "            curr_node = curr_node.next\n",
        "        print(\"None\")\n",
        "\n",
        "\n",
        "# example usage\n",
        "ls = LinkedList()\n",
        "ls.head = Node(\"Head\")\n",
        "ls.head.next = Node(\"S\")\n",
        "ls.head.next.next = Node(\"t\")\n",
        "ls.head.next.next.next = Node(\"i\")\n",
        "ls.head.next.next.next.next = Node(\"n\")\n",
        "ls.head.next.next.next.next.next = Node(\"g\")\n",
        "\n",
        "ls.insertElem(3, \"r\")\n",
        "ls.display()\n"
      ]
    },
    {
      "cell_type": "code",
      "source": [
        "#Answer of 2\n",
        "class Node:\n",
        "    def __init__(self, data):\n",
        "        self.data = data\n",
        "        self.next = None\n",
        "\n",
        "class LinkedList:\n",
        "    def __init__(self):\n",
        "        self.head = None\n",
        "\n",
        "    def display(self):\n",
        "        current_node = self.head\n",
        "        while current_node:\n",
        "            print(current_node.data, end=\"->\")\n",
        "            current_node = current_node.next\n",
        "        print(\"None\")\n",
        "\n",
        "def convertToChar(lst):\n",
        "    charDict = {i: chr(i+64) for i in range(1, 27)}\n",
        "    charDict[0] = '#'\n",
        "\n",
        "    current_node = lst.head\n",
        "    while current_node:\n",
        "        if current_node.data > 26:\n",
        "            current_node.data = '#'\n",
        "        else:\n",
        "            current_node.data = charDict[current_node.data]\n",
        "        current_node = current_node.next\n",
        "\n",
        "    return lst\n",
        "\n",
        "# Example usage\n",
        "lst0 = LinkedList()\n",
        "lst0.head = Node(1)\n",
        "lst0.head.next = Node(2)\n",
        "lst0.head.next.next = Node(2)\n",
        "lst0.head.next.next.next = Node(1)\n",
        "\n",
        "lst1 = LinkedList()\n",
        "lst1.head = Node(12)\n",
        "lst1.head.next = Node(2)\n",
        "lst1.head.next.next = Node(1)\n",
        "\n",
        "lst2 = LinkedList()\n",
        "lst2.head = Node(1)\n",
        "lst2.head.next = Node(22)\n",
        "lst2.head.next.next = Node(1)\n",
        "\n",
        "lst3 = LinkedList()\n",
        "lst3.head = Node(1)\n",
        "lst3.head.next = Node(2)\n",
        "lst3.head.next.next = Node(21)\n",
        "\n",
        "lst0 = convertToChar(lst0)\n",
        "lst1 = convertToChar(lst1)\n",
        "lst2 = convertToChar(lst2)\n",
        "lst3 = convertToChar(lst3)\n",
        "\n",
        "lst0.display()\n",
        "lst1.display()\n",
        "lst2.display()\n",
        "lst3.display()\n",
        "\n",
        "\n"
      ],
      "metadata": {
        "colab": {
          "base_uri": "https://localhost:8080/"
        },
        "id": "CBh83xJBtkXW",
        "outputId": "924b4b57-890d-4075-c3bc-991fa9206bd6"
      },
      "execution_count": null,
      "outputs": [
        {
          "output_type": "stream",
          "name": "stdout",
          "text": [
            "A->B->B->A->None\n",
            "L->B->A->None\n",
            "A->V->A->None\n",
            "A->B->U->None\n"
          ]
        }
      ]
    },
    {
      "cell_type": "code",
      "source": [
        "#Answer of 3\n",
        "def partition(arr):\n",
        "    total_sum = sum(arr)\n",
        "    if total_sum % 2 != 0:\n",
        "        return \"Cannot partition\"\n",
        "\n",
        "    target_sum = total_sum // 2\n",
        "    ls1 = []\n",
        "    ls2 = []\n",
        "    arr.sort(reverse=True)\n",
        "\n",
        "    for num in arr:\n",
        "        if sum(ls1) < target_sum:\n",
        "            ls1.append(num)\n",
        "        else:\n",
        "            ls2.append(num)\n",
        "\n",
        "    return ls1, ls2\n",
        "\n",
        "# Example usage\n",
        "arr = [1,3,2,1,2,1]\n",
        "ls1, ls2 = partition(arr)\n",
        "print(ls1, ls2)"
      ],
      "metadata": {
        "colab": {
          "base_uri": "https://localhost:8080/"
        },
        "id": "EB8_Rvb_uxg-",
        "outputId": "b4e1a2e1-fa61-4819-89bc-93458709839f"
      },
      "execution_count": null,
      "outputs": [
        {
          "output_type": "stream",
          "name": "stdout",
          "text": [
            "[3, 2] [2, 1, 1, 1]\n"
          ]
        }
      ]
    },
    {
      "cell_type": "code",
      "source": [
        "#Answer of 4\n",
        "def get_max_difference(a):\n",
        "    max_diff = float('-inf')\n",
        "    n = len(a)\n",
        "    for u in range(n):\n",
        "        for v in range(u):\n",
        "            for w in range(v):\n",
        "                for x in range(w):\n",
        "                    diff = a[u] - a[v] + a[w] - a[x]\n",
        "                    if diff > max_diff:\n",
        "                        max_diff = diff\n",
        "    return max_diff\n",
        "\n",
        "a = [3, 9, 10, 1, 30, 40]\n",
        "expected_output = 46\n",
        "output = get_max_difference(a)\n",
        "if output == expected_output:\n",
        "    print(\"Test case 1 passed.\")\n",
        "else:\n",
        "    print(\"Test case 1 failed. Expected output: {}, but got: {}\".format(expected_output, output))\n",
        "\n",
        "\n"
      ],
      "metadata": {
        "colab": {
          "base_uri": "https://localhost:8080/"
        },
        "id": "ewnrYdt9v_1-",
        "outputId": "2933b30c-c9df-4174-b0d8-91051630efb2"
      },
      "execution_count": null,
      "outputs": [
        {
          "output_type": "stream",
          "name": "stdout",
          "text": [
            "Test case 1 passed.\n"
          ]
        }
      ]
    },
    {
      "cell_type": "code",
      "source": [
        "#Answer of 5\n",
        "def generate_all_combinations(n):\n",
        "    arr = [-1] * (2 * n)\n",
        "    elem = 1\n",
        "\n",
        "    def recursive_combination(arr, elem, n):\n",
        "        if elem > n:\n",
        "            for i in arr:\n",
        "                print(i, end=\" \")\n",
        "            print(\"\")\n",
        "            return\n",
        "\n",
        "        for i in range(0, 2 * n):\n",
        "            if arr[i] == -1 and (i + elem + 1) < 2*n and arr[i + elem + 1] == -1:\n",
        "                arr[i] = elem\n",
        "                arr[i + elem + 1] = elem\n",
        "                recursive_combination(arr, elem + 1, n)\n",
        "                arr[i] = -1\n",
        "                arr[i + elem + 1] = -1\n",
        "\n",
        "    recursive_combination(arr, elem, n)\n",
        "\n",
        "n = int(input(\"Enter the value of N: \"))\n",
        "generate_all_combinations(n)\n"
      ],
      "metadata": {
        "colab": {
          "base_uri": "https://localhost:8080/"
        },
        "id": "AhYBWNFlzSN9",
        "outputId": "3f1330e6-96d0-4ae1-c7d1-9b2f23d03bdf"
      },
      "execution_count": null,
      "outputs": [
        {
          "output_type": "stream",
          "name": "stdout",
          "text": [
            "Enter the value of N: 4\n",
            "4 1 3 1 2 4 3 2 \n",
            "2 3 4 2 1 3 1 4 \n"
          ]
        }
      ]
    }
  ]
}